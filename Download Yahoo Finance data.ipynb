{
 "cells": [
  {
   "cell_type": "code",
   "execution_count": 26,
   "id": "8536297f",
   "metadata": {},
   "outputs": [],
   "source": [
    "import pandas as pd\n",
    "import sqlalchemy as sa\n",
    "import yfinance as yf\n",
    "import sys\n",
    "from datetime import datetime\n",
    "\n",
    "connection_url = sa.engine.URL.create(\n",
    "    \"mssql\",\n",
    "    host=\"DATOR\",\n",
    "    database=\"Finance\",\n",
    "    query={\n",
    "        \"driver\": \"SQL Server\",\n",
    "        \"TrustServerCertificate\": \"yes\",\n",
    "        #\"authentication\": \"ActiveDirectoryIntegrated\",\n",
    "    },\n",
    ")\n",
    "\n",
    "engine = sa.create_engine(connection_url)\n"
   ]
  },
  {
   "cell_type": "code",
   "execution_count": 30,
   "id": "71fa3343",
   "metadata": {},
   "outputs": [],
   "source": [
    "def download_history(ticker):\n",
    "    t = yf.Ticker(ticker)\n",
    "    hist = t.history(period='max', interval='1d')\n",
    "    hist['Date'] = hist.index.strftime('%Y-%m-%d')\n",
    "    hist['Ticker'] = ticker\n",
    "    hist['Timestamp'] = datetime.now().strftime('%Y-%m-%d %H:%M:%S')\n",
    "    hist = hist.reset_index(drop=True)\n",
    "    hist.to_sql('History', if_exists='append', index=False, con=engine, chunksize=1000)\n",
    "    \n"
   ]
  },
  {
   "cell_type": "code",
   "execution_count": 31,
   "id": "c5c4fc56",
   "metadata": {},
   "outputs": [],
   "source": [
    "tickers = ('MSFT', 'DE', 'AAPL', 'ORCL', 'CAT', 'VOLV-B.ST')\n",
    "\n",
    "for t in tickers:\n",
    "    download_history(t)\n",
    "    "
   ]
  },
  {
   "cell_type": "code",
   "execution_count": null,
   "id": "45ab7086",
   "metadata": {},
   "outputs": [],
   "source": []
  }
 ],
 "metadata": {
  "kernelspec": {
   "display_name": "Python 3 (ipykernel)",
   "language": "python",
   "name": "python3"
  },
  "language_info": {
   "codemirror_mode": {
    "name": "ipython",
    "version": 3
   },
   "file_extension": ".py",
   "mimetype": "text/x-python",
   "name": "python",
   "nbconvert_exporter": "python",
   "pygments_lexer": "ipython3",
   "version": "3.10.7"
  }
 },
 "nbformat": 4,
 "nbformat_minor": 5
}
