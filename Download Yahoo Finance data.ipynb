{
 "cells": [
  {
   "cell_type": "code",
   "execution_count": 1,
   "id": "8536297f",
   "metadata": {},
   "outputs": [],
   "source": [
    "import pandas as pd\n",
    "from sqlalchemy import engine, create_engine, sql, Column, Integer, String, Float, Date, func, MetaData\n",
    "from sqlalchemy.orm import declarative_base, sessionmaker\n",
    "import yfinance as yf\n",
    "import sys\n",
    "from datetime import datetime, timedelta\n",
    "from matplotlib import pyplot as plt\n",
    "\n",
    "connection_url = engine.URL.create(\n",
    "    \"mssql\",\n",
    "    host=\"DATOR\",\n",
    "    database=\"Finance\",\n",
    "    query={\n",
    "        \"driver\": \"SQL Server\",\n",
    "        \"TrustServerCertificate\": \"yes\",\n",
    "        #\"authentication\": \"ActiveDirectoryIntegrated\",\n",
    "    },\n",
    ")\n",
    "\n",
    "engine = create_engine(connection_url)\n"
   ]
  },
  {
   "cell_type": "code",
   "execution_count": 15,
   "id": "bc1bdf70",
   "metadata": {},
   "outputs": [],
   "source": [
    "Base = declarative_base()\n",
    "class History(Base):\n",
    "    __tablename__ = \"History\"\n",
    "    Id = Column(Integer, primary_key=True)\n",
    "    Close = Column(Float)\n",
    "    Ticker = Column(String(50))\n",
    "    Date = Column(Date)\n",
    "    LastUpdated = Column(String)\n",
    "    \n",
    "    def __repr__(self):\n",
    "        return \"<History(Ticker='%s', Open='%s')>\" % (self.Ticker, self.Open)"
   ]
  },
  {
   "cell_type": "code",
   "execution_count": 5,
   "id": "71fa3343",
   "metadata": {},
   "outputs": [],
   "source": [
    "def full_load(ticker, truncate=False):\n",
    "    \n",
    "    if truncate:\n",
    "        engine.execute(sql.text('''TRUNCATE TABLE History''').execution_options(autocommit=True))\n",
    "    else:\n",
    "        engine.execute(sql.text('''DELETE FROM History WHERE Ticker=:ticker''').params(ticker=ticker).execution_options(autocommit=True))\n",
    "    \n",
    "    t = yf.Ticker(ticker)\n",
    "    hist = t.history(period='max', interval='1d')\n",
    "    hist['Date'] = hist.index.strftime('%Y-%m-%d')\n",
    "    hist['Ticker'] = ticker\n",
    "    hist['LastUpdated'] = datetime.now().strftime('%Y-%m-%d %H:%M:%S')\n",
    "    hist = hist.reset_index(drop=True)\n",
    "    hist.to_sql('History', if_exists='append', index=False, con=engine, chunksize=1000)\n",
    "    \n",
    "def incremental_load(ticker, session):\n",
    "    \n",
    "    t = yf.Ticker(ticker)\n",
    "    # Check if ticker is currently in history table. If not perform a full load\n",
    "    if len(session.query(History).filter_by(Ticker=ticker).all()) == 0:\n",
    "        full_load(ticker)\n",
    "        \n",
    "    # I ticker is found in history table load from day after max Date.\n",
    "    # Currently this shit has a bug loading the previous day... Due to weekend?!!!\n",
    "    else:\n",
    "        (Date, ) = session.query(func.max(History.Date)).filter_by(Ticker=ticker).one() # Get max Date for ticker\n",
    "        start_date = (Date + timedelta(days=1)).strftime('%Y-%m-%d') # Set start date as day after max Date\n",
    "        try:\n",
    "            hist = t.history(start=start_date)\n",
    "            hist['Date'] = hist.index.strftime('%Y-%m-%d')\n",
    "            hist['Ticker'] = ticker\n",
    "            hist['LastUpdated'] = datetime.now().strftime('%Y-%m-%d %H:%M:%S')\n",
    "            hist = hist.reset_index(drop=True)\n",
    "            hist.to_sql('History', if_exists='append', index=False, con=engine, chunksize=1000)\n",
    "        except:\n",
    "            pass\n",
    "\n",
    "\n",
    "def get_earnings(ticker):\n",
    "    t = yf.Ticker(ticker)\n",
    "    df = t.earnings\n",
    "    df['Date'] = df.index.astype(str) + '-12-31'\n",
    "    df = df.reset_index()\n",
    "    df = df.drop(['Year'], axis=1)\n",
    "    df.to_sql('Earnings', if_exists='append', index=False, con=engine, chunksize=100)"
   ]
  },
  {
   "cell_type": "code",
   "execution_count": 6,
   "id": "9bc13282",
   "metadata": {},
   "outputs": [],
   "source": [
    "Session = sessionmaker(bind=engine)\n",
    "session = Session()\n",
    "\n",
    "# Generate ticker list to be loaded for each stock index.\n",
    "omxs30_tickers = pd.read_sql(\"SELECT Ticker FROM Companies WHERE List = 'OMXS30'\", con=engine)['Ticker'].to_list()"
   ]
  },
  {
   "cell_type": "code",
   "execution_count": 22,
   "id": "48338e6d",
   "metadata": {},
   "outputs": [],
   "source": [
    "for t in omxs30_tickers:\n",
    "    full_load(t)"
   ]
  },
  {
   "cell_type": "code",
   "execution_count": null,
   "id": "205cd398",
   "metadata": {},
   "outputs": [],
   "source": []
  }
 ],
 "metadata": {
  "kernelspec": {
   "display_name": "Python 3 (ipykernel)",
   "language": "python",
   "name": "python3"
  },
  "language_info": {
   "codemirror_mode": {
    "name": "ipython",
    "version": 3
   },
   "file_extension": ".py",
   "mimetype": "text/x-python",
   "name": "python",
   "nbconvert_exporter": "python",
   "pygments_lexer": "ipython3",
   "version": "3.11.1"
  },
  "vscode": {
   "interpreter": {
    "hash": "376dd7633afddb7e11c0a9ffa5f656d1a19ddfafae55033d07193535982b765e"
   }
  }
 },
 "nbformat": 4,
 "nbformat_minor": 5
}
