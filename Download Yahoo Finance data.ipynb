{
 "cells": [
  {
   "cell_type": "code",
   "execution_count": 16,
   "id": "8536297f",
   "metadata": {},
   "outputs": [],
   "source": [
    "import pandas as pd\n",
    "from sqlalchemy import engine, create_engine, sql, Column, Integer, String, Float, Date, func\n",
    "from sqlalchemy.orm import declarative_base, sessionmaker\n",
    "import yfinance as yf\n",
    "import sys\n",
    "from datetime import datetime, timedelta\n",
    "from matplotlib import pyplot as plt\n",
    "\n",
    "connection_url = engine.URL.create(\n",
    "    \"mssql\",\n",
    "    host=\"DATOR\",\n",
    "    database=\"Finance\",\n",
    "    query={\n",
    "        \"driver\": \"SQL Server\",\n",
    "        \"TrustServerCertificate\": \"yes\",\n",
    "        #\"authentication\": \"ActiveDirectoryIntegrated\",\n",
    "    },\n",
    ")\n",
    "\n",
    "engine = create_engine(connection_url)\n"
   ]
  },
  {
   "cell_type": "code",
   "execution_count": 2,
   "id": "bc1bdf70",
   "metadata": {},
   "outputs": [],
   "source": [
    "Base = declarative_base()\n",
    "class History(Base):\n",
    "    __tablename__ = \"History\"\n",
    "    Id = Column(Integer, primary_key=True)\n",
    "    Open = Column(Float)\n",
    "    Ticker = Column(String(50))\n",
    "    Date = Column(Date)\n",
    "    LastUpdated = Column(String)\n",
    "    \n",
    "    def __repr__(self):\n",
    "        return \"<History(Ticker='%s', Open='%s')>\" % (self.Ticker, self.Open)"
   ]
  },
  {
   "cell_type": "code",
   "execution_count": 3,
   "id": "71fa3343",
   "metadata": {},
   "outputs": [],
   "source": [
    "def full_load(ticker, truncate=False):\n",
    "    \n",
    "    if truncate:\n",
    "        engine.execute(sql.text('''TRUNCATE TABLE History''').execution_options(autocommit=True))\n",
    "    else:\n",
    "        engine.execute(sql.text('''DELETE FROM History WHERE Ticker=:ticker''').params(ticker=ticker).execution_options(autocommit=True))\n",
    "    \n",
    "    t = yf.Ticker(ticker)\n",
    "    hist = t.history(period='max', interval='1d')\n",
    "    hist['Date'] = hist.index.strftime('%Y-%m-%d')\n",
    "    hist['Ticker'] = ticker\n",
    "    hist['LastUpdated'] = datetime.now().strftime('%Y-%m-%d %H:%M:%S')\n",
    "    hist = hist.reset_index(drop=True)\n",
    "    hist.to_sql('History', if_exists='append', index=False, con=engine, chunksize=1000)\n",
    "    \n",
    "def incremental_load(ticker):\n",
    "    \n",
    "    t = yf.Ticker(ticker)\n",
    "    # Check if ticker is currently in history table. If not perform a full load\n",
    "    if len(session.query(History).filter_by(Ticker=\"KINV-B.ST\").all()) == 0:\n",
    "        full_load(ticker)\n",
    "        \n",
    "    # I ticker is found in history table load from day after max Date.\n",
    "    # Currently this shit has a bug loading the previous day... Due to weekend?!!!\n",
    "    else:\n",
    "        (Date, ) =session.query(func.max(History.Date)).filter_by(Ticker=ticker).one() # Get max Date for ticker\n",
    "        start_date = (Date + timedelta(days=1)).strftime('%Y-%m-%d') # Set start date as day after max Date\n",
    "        try:\n",
    "            hist = t.history(start=start_date)\n",
    "            hist['Date'] = hist.index.strftime('%Y-%m-%d')\n",
    "            hist['Ticker'] = ticker\n",
    "            hist['LastUpdated'] = datetime.now().strftime('%Y-%m-%d %H:%M:%S')\n",
    "            hist = hist.reset_index(drop=True)\n",
    "            hist.to_sql('History', if_exists='append', index=False, con=engine, chunksize=1000)\n",
    "        except:\n",
    "            pass"
   ]
  },
  {
   "cell_type": "code",
   "execution_count": 4,
   "id": "9bc13282",
   "metadata": {},
   "outputs": [],
   "source": [
    "# Generate ticker list to be loaded for each stock index.\n",
    "omxs30_tickers = pd.read_sql(\"SELECT Ticker FROM Companies WHERE List = 'OMXS30'\", con=engine)['Ticker'].to_list()"
   ]
  },
  {
   "cell_type": "code",
   "execution_count": 5,
   "id": "48338e6d",
   "metadata": {},
   "outputs": [],
   "source": [
    "Session = sessionmaker(bind=engine)\n",
    "session = Session()"
   ]
  },
  {
   "cell_type": "code",
   "execution_count": 26,
   "id": "db881d20",
   "metadata": {},
   "outputs": [
    {
     "name": "stdout",
     "output_type": "stream",
     "text": [
      "- KINV-B.ST: Invalid input - start date cannot be after end date. startDate = 1669417200, endDate = 1669390223\n",
      "- SWMA.ST: Invalid input - start date cannot be after end date. startDate = 1669417200, endDate = 1669390223\n",
      "- SWED-A.ST: Invalid input - start date cannot be after end date. startDate = 1669417200, endDate = 1669390224\n",
      "- TELIA.ST: Invalid input - start date cannot be after end date. startDate = 1669417200, endDate = 1669390224\n",
      "- SCA-B.ST: Invalid input - start date cannot be after end date. startDate = 1669417200, endDate = 1669390224\n",
      "- EVO.ST: Invalid input - start date cannot be after end date. startDate = 1669417200, endDate = 1669390224\n",
      "- ELUX-B.ST: Invalid input - start date cannot be after end date. startDate = 1669417200, endDate = 1669390225\n",
      "- SEB-A.ST: Invalid input - start date cannot be after end date. startDate = 1669417200, endDate = 1669390225\n",
      "- GETI-B.ST: Invalid input - start date cannot be after end date. startDate = 1669417200, endDate = 1669390225\n",
      "- NDA-SE.ST: Invalid input - start date cannot be after end date. startDate = 1669417200, endDate = 1669390225\n",
      "- SHB-A.ST: Invalid input - start date cannot be after end date. startDate = 1669417200, endDate = 1669390225\n",
      "- ABB.ST: Invalid input - start date cannot be after end date. startDate = 1669417200, endDate = 1669390226\n",
      "- ASSA-B.ST: Invalid input - start date cannot be after end date. startDate = 1669417200, endDate = 1669390226\n",
      "- TEL2-B.ST: Invalid input - start date cannot be after end date. startDate = 1669417200, endDate = 1669390226\n",
      "- ATCO-A.ST: Invalid input - start date cannot be after end date. startDate = 1669417200, endDate = 1669390226\n",
      "- ATCO-B.ST: Invalid input - start date cannot be after end date. startDate = 1669417200, endDate = 1669390227\n",
      "- INVE-B.ST: Invalid input - start date cannot be after end date. startDate = 1669417200, endDate = 1669390227\n",
      "- BOL.ST: Invalid input - start date cannot be after end date. startDate = 1669417200, endDate = 1669390227\n",
      "- ERIC-B.ST: Invalid input - start date cannot be after end date. startDate = 1669417200, endDate = 1669390227\n",
      "- SAND.ST: Invalid input - start date cannot be after end date. startDate = 1669417200, endDate = 1669390228\n",
      "- HEXA-B.ST: Invalid input - start date cannot be after end date. startDate = 1669417200, endDate = 1669390228\n",
      "- SBB-B.ST: Invalid input - start date cannot be after end date. startDate = 1669417200, endDate = 1669390228\n",
      "- ESSITY-B.ST: Invalid input - start date cannot be after end date. startDate = 1669417200, endDate = 1669390228\n",
      "- ALFA.ST: Invalid input - start date cannot be after end date. startDate = 1669417200, endDate = 1669390229\n",
      "- AZN.ST: Invalid input - start date cannot be after end date. startDate = 1669417200, endDate = 1669390229\n",
      "- SKF-B.ST: Invalid input - start date cannot be after end date. startDate = 1669417200, endDate = 1669390229\n",
      "- SINCH.ST: Invalid input - start date cannot be after end date. startDate = 1669417200, endDate = 1669390229\n",
      "- VOLV-B.ST: Invalid input - start date cannot be after end date. startDate = 1669417200, endDate = 1669390229\n",
      "- HM-B.ST: Invalid input - start date cannot be after end date. startDate = 1669417200, endDate = 1669390230\n",
      "- ALIV-SDB.ST: Invalid input - start date cannot be after end date. startDate = 1669417200, endDate = 1669390230\n"
     ]
    }
   ],
   "source": [
    "for t in omxs30_tickers:\n",
    "    incremental_load(t)"
   ]
  },
  {
   "cell_type": "code",
   "execution_count": null,
   "id": "001afa4b",
   "metadata": {},
   "outputs": [],
   "source": []
  }
 ],
 "metadata": {
  "kernelspec": {
   "display_name": "Python 3 (ipykernel)",
   "language": "python",
   "name": "python3"
  },
  "language_info": {
   "codemirror_mode": {
    "name": "ipython",
    "version": 3
   },
   "file_extension": ".py",
   "mimetype": "text/x-python",
   "name": "python",
   "nbconvert_exporter": "python",
   "pygments_lexer": "ipython3",
   "version": "3.10.7"
  },
  "vscode": {
   "interpreter": {
    "hash": "376dd7633afddb7e11c0a9ffa5f656d1a19ddfafae55033d07193535982b765e"
   }
  }
 },
 "nbformat": 4,
 "nbformat_minor": 5
}
