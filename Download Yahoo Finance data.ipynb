{
 "cells": [
  {
   "cell_type": "code",
   "execution_count": 1,
   "id": "8536297f",
   "metadata": {},
   "outputs": [],
   "source": [
    "import pandas as pd\n",
    "import sqlalchemy as sa\n",
    "import yfinance as yf\n",
    "import sys\n",
    "\n",
    "connection_url = sa.engine.URL.create(\n",
    "    \"mssql+pyodbc\",\n",
    "    username=\"adfadmin\",\n",
    "    password=\"ert-Y751-vcD\",\n",
    "    host=\"analytics100sqlserv.database.windows.net\",\n",
    "    port=1433,\n",
    "    database=\"analytics100sql\",\n",
    "    query={\n",
    "        \"driver\": \"ODBC Driver 18 for SQL Server\"\n",
    "        #\"TrustServerCertificate\": \"yes\",\n",
    "        #\"authentication\": \"ActiveDirectoryIntegrated\",\n",
    "    },\n",
    ")\n",
    "\n",
    "engine = sa.create_engine(connection_url)\n"
   ]
  },
  {
   "cell_type": "code",
   "execution_count": 2,
   "id": "71fa3343",
   "metadata": {},
   "outputs": [],
   "source": [
    "msft = yf.Ticker('MSFT')\n",
    "msft_hist = msft.history(period='max', interval='1d')\n",
    "msft_hist['Date'] = msft_hist.index.strftime('%Y-%m-%d')\n",
    "msft_hist['Ticker'] = 'MSFT'\n",
    "msft_hist = msft_hist.reset_index(drop=True)"
   ]
  },
  {
   "cell_type": "code",
   "execution_count": 30,
   "id": "c5c4fc56",
   "metadata": {},
   "outputs": [
    {
     "data": {
      "text/plain": [
       "-10"
      ]
     },
     "execution_count": 30,
     "metadata": {},
     "output_type": "execute_result"
    }
   ],
   "source": [
    "msft_hist.to_sql('History', if_exists='replace', index=False, con=engine, chunksize=1000)"
   ]
  },
  {
   "cell_type": "code",
   "execution_count": 3,
   "id": "993e4c74",
   "metadata": {},
   "outputs": [
    {
     "data": {
      "text/plain": [
       "1.701056"
      ]
     },
     "execution_count": 3,
     "metadata": {},
     "output_type": "execute_result"
    }
   ],
   "source": [
    "sys.getsizeof(msft_hist) / 1000000"
   ]
  },
  {
   "cell_type": "code",
   "execution_count": null,
   "id": "734b7c62",
   "metadata": {},
   "outputs": [],
   "source": []
  }
 ],
 "metadata": {
  "kernelspec": {
   "display_name": "Python 3 (ipykernel)",
   "language": "python",
   "name": "python3"
  },
  "language_info": {
   "codemirror_mode": {
    "name": "ipython",
    "version": 3
   },
   "file_extension": ".py",
   "mimetype": "text/x-python",
   "name": "python",
   "nbconvert_exporter": "python",
   "pygments_lexer": "ipython3",
   "version": "3.11.0"
  }
 },
 "nbformat": 4,
 "nbformat_minor": 5
}
